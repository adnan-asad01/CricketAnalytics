{
 "cells": [
  {
   "cell_type": "code",
   "execution_count": 2,
   "id": "01253786",
   "metadata": {},
   "outputs": [],
   "source": [
    "import requests\n",
    "from bs4 import BeautifulSoup\n",
    "import pandas as pd"
   ]
  },
  {
   "cell_type": "code",
   "execution_count": null,
   "id": "5a650837",
   "metadata": {},
   "outputs": [],
   "source": []
  },
  {
   "cell_type": "code",
   "execution_count": null,
   "id": "1cd35bce",
   "metadata": {},
   "outputs": [],
   "source": []
  },
  {
   "cell_type": "code",
   "execution_count": null,
   "id": "2d2c0fdf",
   "metadata": {},
   "outputs": [],
   "source": []
  },
  {
   "cell_type": "markdown",
   "id": "c244e9e5",
   "metadata": {},
   "source": [
    "<h3>Bowling</h3>"
   ]
  },
  {
   "cell_type": "markdown",
   "id": "996105f8",
   "metadata": {},
   "source": [
    "<h5>a.ODI</h5>"
   ]
  },
  {
   "cell_type": "code",
   "execution_count": 3,
   "id": "65971500",
   "metadata": {},
   "outputs": [],
   "source": [
    "country_id_dict = {2: 'Australia',6: 'India',5: 'New Zealand',1: 'England',7: 'Pakistan',3: 'South Africa',25: 'Bangladesh',8: 'Sri Lanka',4: 'West Indies',40: 'Afghanistan',29: 'Ireland',30: 'Scotland',9: 'Zimbabwe', 15: 'Netherlands',32: 'Nepal',  37: 'Oman',28: 'Namibia',11: 'United States',27: 'United Arab Emirates', 20: 'Papua New Guinea'}\n",
    "\n",
    "country_ID_list = [1,2,3,4,5,6,7,8,9,20,25,27,28,29,30,32,37,40]\n",
    "\n",
    "odi_ball = pd.DataFrame(columns=['Player','TimeSpan','Mat','Inns','Overs','Mdns','Runs','Wkts',\n",
    "                                   'BBI','Ave','Econ','SR','4','5','Ct','St','Country'])\n",
    "\n",
    "for country_id in country_ID_list:\n",
    "    url = f'https://stats.espncricinfo.com/ci/engine/records/averages/bowling.html?class=2;current=2;id={country_id};type=team'\n",
    "    res = requests.get(url)\n",
    "    soup = BeautifulSoup(res.content, 'html.parser')\n",
    "    table = soup.find_all('table')[0]\n",
    "    rows = table.find_all('tr')\n",
    "    \n",
    "    for row in rows[1:]:\n",
    "        data = row.find_all('td')\n",
    "        if len(data) > 0:\n",
    "            player = data[0].get_text().strip()\n",
    "            span = data[1].get_text().strip()\n",
    "            mat = data[2].get_text().strip()\n",
    "            inns = data[3].get_text().strip()\n",
    "            Overs = data[4].get_text().strip()\n",
    "            Mdns = data[5].get_text().strip()\n",
    "            Runs = data[6].get_text().strip()\n",
    "            Wkts = data[7].get_text().strip()\n",
    "            BBI = data[8].get_text().strip()\n",
    "            Ave = data[9].get_text().strip()\n",
    "            Econ = data[10].get_text().strip()\n",
    "            SR = data[11].get_text().strip()\n",
    "            four = data[12].get_text().strip()\n",
    "            five = data[13].get_text().strip()\n",
    "            ct = data[14].get_text().strip()\n",
    "            st = data[15].get_text().strip()\n",
    "\n",
    "            country_name = country_id_dict[country_id]\n",
    "\n",
    "            row_data = {'Player': player, 'TimeSpan': span, 'Mat': mat, 'Inns': inns, 'Overs': Overs, \n",
    "                        'Mdns': Mdns, 'Runs': Runs, 'Wkts': Wkts, 'BBI': BBI, 'Ave': Ave, \n",
    "                        'Econ': Econ, 'SR': SR, '4': four, \n",
    "                        '5': five, 'Ct': ct, 'St': st, 'Country': country_name}\n",
    "            odi_ball = pd.concat([odi_ball, pd.DataFrame(row_data, index=[0])], ignore_index=True)\n",
    "            odi_ball['Format'] = 'ODI'"
   ]
  },
  {
   "cell_type": "code",
   "execution_count": null,
   "id": "fc75a3a2",
   "metadata": {},
   "outputs": [],
   "source": []
  },
  {
   "cell_type": "markdown",
   "id": "22b342ea",
   "metadata": {},
   "source": [
    "<h5>b.T20I</h5>"
   ]
  },
  {
   "cell_type": "code",
   "execution_count": 4,
   "id": "83e43177",
   "metadata": {},
   "outputs": [],
   "source": [
    "country_id_dict = {2: 'Australia',6: 'India',5: 'New Zealand',1: 'England',7: 'Pakistan',3: 'South Africa',25: 'Bangladesh',8: 'Sri Lanka',4: 'West Indies',40: 'Afghanistan',29: 'Ireland',30: 'Scotland',9: 'Zimbabwe', 15: 'Netherlands',32: 'Nepal',  37: 'Oman',28: 'Namibia',11: 'United States',27: 'United Arab Emirates', 20: 'Papua New Guinea'}\n",
    "\n",
    "country_ID_list = [1,2,3,4,5,6,7,8,9,20,25,27,28,29,30,32,37,40]\n",
    "\n",
    "t20I_ball = pd.DataFrame(columns=['Player','TimeSpan','Mat','Inns','Overs','Mdns','Runs','Wkts',\n",
    "                                   'BBI','Ave','Econ','SR','4','5','Ct','St','Country'])\n",
    "\n",
    "for country_id in country_ID_list:\n",
    "    url = f'https://stats.espncricinfo.com/ci/engine/records/averages/bowling.html?class=3;current=2;id={country_id};type=team'\n",
    "    res = requests.get(url)\n",
    "    soup = BeautifulSoup(res.content, 'html.parser')\n",
    "    table = soup.find_all('table')[0]\n",
    "    rows = table.find_all('tr')\n",
    "    \n",
    "    for row in rows[1:]:\n",
    "        data = row.find_all('td')\n",
    "        if len(data) > 0:\n",
    "            player = data[0].get_text().strip()\n",
    "            span = data[1].get_text().strip()\n",
    "            mat = data[2].get_text().strip()\n",
    "            inns = data[3].get_text().strip()\n",
    "            Overs = data[4].get_text().strip()\n",
    "            Mdns = data[5].get_text().strip()\n",
    "            Runs = data[6].get_text().strip()\n",
    "            Wkts = data[7].get_text().strip()\n",
    "            BBI = data[8].get_text().strip()\n",
    "            Ave = data[9].get_text().strip()\n",
    "            Econ = data[10].get_text().strip()\n",
    "            SR = data[11].get_text().strip()\n",
    "            four = data[12].get_text().strip()\n",
    "            five = data[13].get_text().strip()\n",
    "            ct = data[14].get_text().strip()\n",
    "            st = data[15].get_text().strip()\n",
    "\n",
    "            country_name = country_id_dict[country_id]\n",
    "\n",
    "            row_data = {'Player': player, 'TimeSpan': span, 'Mat': mat, 'Inns': inns, 'Overs': Overs, \n",
    "                        'Mdns': Mdns, 'Runs': Runs, 'Wkts': Wkts, 'BBI': BBI, 'Ave': Ave, \n",
    "                        'Econ': Econ, 'SR': SR, '4': four, \n",
    "                        '5': five, 'Ct': ct, 'St': st, 'Country': country_name}\n",
    "            t20I_ball = pd.concat([t20I_ball, pd.DataFrame(row_data, index=[0])], ignore_index=True)\n",
    "            t20I_ball['Format'] = 'T20I'"
   ]
  },
  {
   "cell_type": "code",
   "execution_count": null,
   "id": "7741e832",
   "metadata": {},
   "outputs": [],
   "source": []
  },
  {
   "cell_type": "markdown",
   "id": "54b7894f",
   "metadata": {},
   "source": [
    "<h5>c.Test</h5>"
   ]
  },
  {
   "cell_type": "code",
   "execution_count": null,
   "id": "91694678",
   "metadata": {},
   "outputs": [],
   "source": [
    "country_id_dict = {2: 'Australia',6: 'India',1: 'England',3: 'South Africa',5: 'New Zealand',7: 'Pakistan',8: 'Sri Lanka',4: 'West Indies',25: 'Bangladesh',40: 'Afghanistan',9: 'Zimbabwe',29: 'Ireland'}\n",
    "\n",
    "country_ID_list = [1,2,3,4,5,6,7,8,9,20,25,27,28,29,30,32,37,40]\n",
    "\n",
    "test_ball = pd.DataFrame(columns=['Player','TimeSpan','Mat','Inns','Overs','Mdns','Runs','Wkts',\n",
    "                                   'BBI','BBM','Ave','Econ','SR','5','10','Ct','St','Country'])\n",
    "\n",
    "for country_id in country_ID_list:\n",
    "    url = f'https://stats.espncricinfo.com/ci/engine/records/averages/bowling.html?class=1;current=2;id={country_id};type=team'\n",
    "    res = requests.get(url)\n",
    "    soup = BeautifulSoup(res.content, 'html.parser')\n",
    "    table = soup.find_all('table')[0]\n",
    "    rows = table.find_all('tr')\n",
    "    \n",
    "    for row in rows[1:]:\n",
    "        data = row.find_all('td')\n",
    "        if len(data) > 0:\n",
    "            player = data[0].get_text().strip()\n",
    "            span = data[1].get_text().strip()\n",
    "            mat = data[2].get_text().strip()\n",
    "            inns = data[3].get_text().strip()\n",
    "            Overs = data[4].get_text().strip()\n",
    "            Mdns = data[5].get_text().strip()\n",
    "            Runs = data[6].get_text().strip()\n",
    "            Wkts = data[7].get_text().strip()\n",
    "            BBI = data[8].get_text().strip()\n",
    "            BBM = data[9].get_text().strip()\n",
    "            Ave = data[10].get_text().strip()\n",
    "            Econ = data[11].get_text().strip()\n",
    "            SR = data[12].get_text().strip()\n",
    "            five = data[13].get_text().strip()\n",
    "            ten = data[14].get_text().strip()\n",
    "            ct = data[15].get_text().strip()\n",
    "            st = data[16].get_text().strip()\n",
    "\n",
    "            country_name = country_id_dict[country_id]\n",
    "\n",
    "            row_data = {'Player': player, 'TimeSpan': span, 'Mat': mat, 'Inns': inns, 'Overs': Overs, \n",
    "                        'Mdns': Mdns, 'Runs': Runs, 'Wkts': Wkts, 'BBI': BBI, 'BBM': BBM,'Ave': Ave, \n",
    "                        'Econ': Econ, 'SR': SR, '5': five, \n",
    "                        '10': ten, 'Ct': ct, 'St': st, 'Country': country_name}\n",
    "            test_ball = pd.concat([test_ball, pd.DataFrame(row_data, index=[0])], ignore_index=True)\n"
   ]
  },
  {
   "cell_type": "code",
   "execution_count": null,
   "id": "68f8b373",
   "metadata": {},
   "outputs": [],
   "source": []
  },
  {
   "cell_type": "code",
   "execution_count": 5,
   "id": "d6905288",
   "metadata": {},
   "outputs": [
    {
     "ename": "SyntaxError",
     "evalue": "unexpected EOF while parsing (4137153412.py, line 35)",
     "output_type": "error",
     "traceback": [
      "\u001b[0;36m  Cell \u001b[0;32mIn [5], line 35\u001b[0;36m\u001b[0m\n\u001b[0;31m    combined_batting = pd.concat([combined_batting, batting_df],\u001b[0m\n\u001b[0m                                                                ^\u001b[0m\n\u001b[0;31mSyntaxError\u001b[0m\u001b[0;31m:\u001b[0m unexpected EOF while parsing\n"
     ]
    }
   ],
   "source": [
    "country_id_dict = {2: 'Australia',6: 'India',5: 'New Zealand',1: 'England',7: 'Pakistan',3: 'South Africa',25: 'Bangladesh',8: 'Sri Lanka',4: 'West Indies',40: 'Afghanistan',29: 'Ireland',30: 'Scotland',9: 'Zimbabwe', 15: 'Netherlands',32: 'Nepal',  37: 'Oman',28: 'Namibia',11: 'United States',27: 'United Arab Emirates', 20: 'Papua New Guinea'}\n",
    "country_ID_list = [1,2,3,4,5,6,7,8,9,20,25,27,28,29,30,32,37,40]\n",
    "\n",
    "combined_batting = pd.DataFrame(columns=['Player','TimeSpan','Mat','Inns','NO','Runs','HS','Ave','BF','SR','100','50','0','4s','6s','Country','Format'])\n",
    "\n",
    "for format_type in ['ODI', 'T20I', 'TEST']:\n",
    "    batting_df = pd.DataFrame(columns=['Player','TimeSpan','Mat','Inns','NO','Runs','HS','Ave','BF','SR','100','50','0','4s','6s','Country'])\n",
    "    for country_id in country_ID_list:\n",
    "        url = f'https://stats.espncricinfo.com/ci/engine/records/averages/batting.html?class={format_type};current=2;id={country_id};type=team'\n",
    "        res = requests.get(url)\n",
    "        soup = BeautifulSoup(res.content, 'html.parser')\n",
    "        table = soup.find_all('table')[0]\n",
    "        rows = table.find_all('tr')\n",
    "        for row in rows[1:]:\n",
    "            data = row.find_all('td')\n",
    "            if len(data) > 0:\n",
    "                player = data[0].get_text().strip()\n",
    "                span = data[1].get_text().strip()\n",
    "                mat = data[2].get_text().strip()\n",
    "                inns = data[3].get_text().strip()\n",
    "                no = data[4].get_text().strip()\n",
    "                runs = data[5].get_text().strip()\n",
    "                hs = data[6].get_text().strip()\n",
    "                ave = data[7].get_text().strip()\n",
    "                bf = data[8].get_text().strip()\n",
    "                sr = data[9].get_text().strip()\n",
    "                hundreds = data[10].get_text().strip()\n",
    "                fifties = data[11].get_text().strip()\n",
    "                zeros = data[12].get_text().strip()\n",
    "                fours = data[13].get_text().strip()\n",
    "                sixes = data[14].get_text().strip()\n",
    "                country_name = country_id_dict[country_id]\n",
    "                row_data = {'Player': player, 'TimeSpan': span, 'Mat': mat, 'Inns': inns, 'NO': no, 'Runs': runs, 'HS': hs, 'Ave': ave, 'BF': bf, 'SR': sr, '100': hundreds, '50': fifties, '0': zeros, '4s': fours, '6s': sixes, 'Country': country_name, 'Format': format_type}\n",
    "                batting_df = pd.concat([batting_df, pd.DataFrame(row_data, index=[0])], ignore_index=True)\n",
    "    combined_batting = pd.concat([combined_batting, batting_df],\n"
   ]
  },
  {
   "cell_type": "code",
   "execution_count": null,
   "id": "ac594bef",
   "metadata": {},
   "outputs": [],
   "source": []
  },
  {
   "cell_type": "code",
   "execution_count": null,
   "id": "610982ec",
   "metadata": {},
   "outputs": [],
   "source": []
  }
 ],
 "metadata": {
  "kernelspec": {
   "display_name": "Python 3 (ipykernel)",
   "language": "python",
   "name": "python3"
  },
  "language_info": {
   "codemirror_mode": {
    "name": "ipython",
    "version": 3
   },
   "file_extension": ".py",
   "mimetype": "text/x-python",
   "name": "python",
   "nbconvert_exporter": "python",
   "pygments_lexer": "ipython3",
   "version": "3.9.9"
  }
 },
 "nbformat": 4,
 "nbformat_minor": 5
}
