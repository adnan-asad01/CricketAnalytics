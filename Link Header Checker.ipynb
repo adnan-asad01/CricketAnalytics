{
 "cells": [
  {
   "cell_type": "code",
   "execution_count": 3,
   "id": "956d862f",
   "metadata": {},
   "outputs": [
    {
     "name": "stdout",
     "output_type": "stream",
     "text": [
      "Title for id 1: England Cricket Team Records & Stats | ESPNcricinfo.com\n",
      "Title for id 2: Australia Cricket Team Records & Stats | ESPNcricinfo.com\n",
      "Title for id 3: South Africa Cricket Team Records & Stats | ESPNcricinfo.com\n",
      "Title for id 4: West Indies Cricket Team Records & Stats | ESPNcricinfo.com\n",
      "Title for id 5: New Zealand Cricket Team Records & Stats | ESPNcricinfo.com\n",
      "Title for id 6: India Cricket Team Records & Stats | ESPNcricinfo.com\n",
      "Title for id 7: Pakistan Cricket Team Records & Stats | ESPNcricinfo.com\n",
      "Title for id 8: Sri Lanka Cricket Team Records & Stats | ESPNcricinfo.com\n",
      "Title for id 9: Zimbabwe Cricket Team Records & Stats | ESPNcricinfo.com\n",
      "Title for id 10: Fiji Cricket Team Records & Stats | ESPNcricinfo.com\n",
      "Title for id 11: United States of America Cricket Team Records & Stats | ESPNcricinfo.com\n",
      "Title for id 12: Bermuda Cricket Team Records & Stats | ESPNcricinfo.com\n",
      "Title for id 13: Denmark Cricket Team Records & Stats | ESPNcricinfo.com\n",
      "Title for id 14: East (and Central) Africa Cricket Team Records & Stats | ESPNcricinfo.com\n",
      "Title for id 15: Netherlands Cricket Team Records & Stats | ESPNcricinfo.com\n",
      "Title for id 16: Malaysia Cricket Team Records & Stats | ESPNcricinfo.com\n",
      "Title for id 17: Canada Cricket Team Records & Stats | ESPNcricinfo.com\n",
      "Title for id 18: Gibraltar Cricket Team Records & Stats | ESPNcricinfo.com\n",
      "Title for id 19: Hong Kong Cricket Team Records & Stats | ESPNcricinfo.com\n",
      "Title for id 20: Papua New Guinea Cricket Team Records & Stats | ESPNcricinfo.com\n",
      "Title for id 21: Argentina Cricket Team Records & Stats | ESPNcricinfo.com\n",
      "Title for id 22: Israel Cricket Team Records & Stats | ESPNcricinfo.com\n",
      "Title for id 23: Singapore Cricket Team Records & Stats | ESPNcricinfo.com\n",
      "Title for id 24: West Africa Cricket Team Records & Stats | ESPNcricinfo.com\n",
      "Title for id 25: Bangladesh Cricket Team Records & Stats | ESPNcricinfo.com\n",
      "Title for id 26: Kenya Cricket Team Records & Stats | ESPNcricinfo.com\n",
      "Title for id 27: United Arab Emirates Cricket Team Records & Stats | ESPNcricinfo.com\n",
      "Title for id 28: Namibia Cricket Team Records & Stats | ESPNcricinfo.com\n",
      "Title for id 29: Ireland Cricket Team Records & Stats | ESPNcricinfo.com\n",
      "Title for id 30: Scotland Cricket Team Records & Stats | ESPNcricinfo.com\n",
      "Title for id 31: Italy Cricket Team Records & Stats | ESPNcricinfo.com\n",
      "Title for id 32: Nepal Cricket Team Records & Stats | ESPNcricinfo.com\n",
      "Title for id 33: France Cricket Team Records & Stats | ESPNcricinfo.com\n",
      "Title for id 34: Uganda Cricket Team Records & Stats | ESPNcricinfo.com\n",
      "Title for id 35: Germany Cricket Team Records & Stats | ESPNcricinfo.com\n",
      "Title for id 36: Japan Cricket Team Records & Stats | ESPNcricinfo.com\n",
      "Title for id 37: Oman Cricket Team Records & Stats | ESPNcricinfo.com\n",
      "Title for id 38: Kuwait Cricket Team Records & Stats | ESPNcricinfo.com\n",
      "Title for id 39: Cayman Islands Cricket Team Records & Stats | ESPNcricinfo.com\n",
      "Title for id 40: Afghanistan Cricket Team Records & Stats | ESPNcricinfo.com\n"
     ]
    }
   ],
   "source": [
    "import requests\n",
    "from bs4 import BeautifulSoup\n",
    "\n",
    "for i in range(1, 41):\n",
    "    url = f'https://stats.espncricinfo.com/ci/engine/records/averages/batting.html?class=1;current=2;id={i};type=team'\n",
    "    response = requests.get(url)\n",
    "    soup = BeautifulSoup(response.text, 'html.parser')\n",
    "    \n",
    "    title = soup.find('title').text.strip()\n",
    "    \n",
    "    print(f'Title for id {i}: {title}')\n"
   ]
  },
  {
   "cell_type": "code",
   "execution_count": null,
   "id": "10dbcf3c",
   "metadata": {},
   "outputs": [],
   "source": []
  }
 ],
 "metadata": {
  "kernelspec": {
   "display_name": "Python 3 (ipykernel)",
   "language": "python",
   "name": "python3"
  },
  "language_info": {
   "codemirror_mode": {
    "name": "ipython",
    "version": 3
   },
   "file_extension": ".py",
   "mimetype": "text/x-python",
   "name": "python",
   "nbconvert_exporter": "python",
   "pygments_lexer": "ipython3",
   "version": "3.9.9"
  }
 },
 "nbformat": 4,
 "nbformat_minor": 5
}
